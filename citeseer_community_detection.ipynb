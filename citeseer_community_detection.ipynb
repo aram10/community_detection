{
 "cells": [
  {
   "cell_type": "code",
   "execution_count": 1,
   "metadata": {},
   "outputs": [],
   "source": [
    "import matplotlib.pyplot as plt\n",
    "import numpy as np\n",
    "import pandas as pd\n",
    "import tensorflow as tf\n",
    "import networkx as nx\n",
    "import random\n",
    "import pickle\n",
    "import itertools\n",
    "import math\n",
    "import urllib.request as urllib\n",
    "import io\n",
    "import zipfile\n",
    "\n",
    "from sklearn.metrics import accuracy_score, precision_score, recall_score\n",
    "from sklearn.model_selection import train_test_split\n",
    "from sklearn.manifold import locally_linear_embedding\n",
    "from sklearn.metrics.pairwise import cosine_similarity\n",
    "from tensorflow import keras\n",
    "from tensorflow.keras import layers\n",
    "from tensorflow.keras import layers, losses\n",
    "from tensorflow.keras.models import Model\n",
    "from tensorflow.linalg import diag\n",
    "from tensorflow.keras import callbacks\n",
    "from sklearn.cluster import KMeans\n",
    "from sklearn.metrics.cluster import normalized_mutual_info_score\n",
    "from networkx.generators.community import LFR_benchmark_graph\n",
    "from itertools import count\n",
    "from scipy.spatial import distance_matrix\n",
    "\n",
    "from helpers import *\n",
    "from Autoencoder import *"
   ]
  },
  {
   "cell_type": "code",
   "execution_count": 2,
   "metadata": {},
   "outputs": [],
   "source": [
    "cs = pickle.load(open('graphs/citeseer.p', 'rb'))"
   ]
  },
  {
   "cell_type": "code",
   "execution_count": 3,
   "metadata": {},
   "outputs": [],
   "source": [
    "X_cs_features = create_feature_matrix(cs, 3703)"
   ]
  },
  {
   "cell_type": "code",
   "execution_count": 4,
   "metadata": {},
   "outputs": [],
   "source": [
    "X_cos_sim = cosine_similarity(X_cs_features)"
   ]
  },
  {
   "cell_type": "code",
   "execution_count": 5,
   "metadata": {},
   "outputs": [],
   "source": [
    "X_cos_sim = top_k(X_cos_sim, int(average_community_size(cora_labels(cs))))"
   ]
  },
  {
   "cell_type": "code",
   "execution_count": 6,
   "metadata": {},
   "outputs": [],
   "source": [
    "#3312-512-256-128-64\n",
    "\n",
    "A = create_adjacency_matrix(cs)\n",
    "\n",
    "#modularity\n",
    "X_modularity = tf.convert_to_tensor(nx.modularity_matrix(cs).astype('float32'))\n",
    "\n",
    "#markov\n",
    "X_markov = tf.convert_to_tensor(markov_matrix(A, X_cos_sim).astype('float32'))\n",
    "\n",
    "#similarity (Sørensen–Dice) S\n",
    "X_similarity = tf.convert_to_tensor(adjacency_to_similarity(A).astype('float32'))\n",
    "\n",
    "#probability transition T\n",
    "X_prob_trans = tf.convert_to_tensor(probability_transition_matrix(A, 4))"
   ]
  },
  {
   "cell_type": "code",
   "execution_count": 7,
   "metadata": {},
   "outputs": [],
   "source": [
    "X_cs_1 = X_modularity"
   ]
  },
  {
   "cell_type": "code",
   "execution_count": 8,
   "metadata": {},
   "outputs": [],
   "source": [
    "#train new network\n",
    "\n",
    "ae_cs_1 = Autoencoder(3312, 512, k_reg=tf.keras.regularizers.L2(), act_reg=SparseRegularizer())\n",
    "history_cs_1 = train(ae_cs_1, 5000, 3312, X_modularity)"
   ]
  },
  {
   "cell_type": "code",
   "execution_count": 11,
   "metadata": {},
   "outputs": [],
   "source": [
    "history_cs_2 = train(ae_cs_1, 5000, 3312, X_similarity)"
   ]
  },
  {
   "cell_type": "code",
   "execution_count": 29,
   "metadata": {},
   "outputs": [],
   "source": [
    "history_cs_3 = train(ae_cs_1, 5000, 3312, X_markov)"
   ]
  },
  {
   "cell_type": "code",
   "execution_count": 38,
   "metadata": {},
   "outputs": [],
   "source": [
    "history_cs_4 = train(ae_cs_1, 5000, 3312, X_prob_trans)"
   ]
  },
  {
   "cell_type": "code",
   "execution_count": 48,
   "metadata": {},
   "outputs": [],
   "source": [
    "H_cs = ae_cs_1.encoder(X_prob_trans)\n",
    "labels = cora_labels(cs)\n",
    "kmeans_cs = KMeans(n_clusters=6, random_state=0).fit(H_cs)"
   ]
  },
  {
   "cell_type": "code",
   "execution_count": 49,
   "metadata": {},
   "outputs": [
    {
     "data": {
      "text/plain": [
       "0.3720536364702456"
      ]
     },
     "execution_count": 49,
     "metadata": {},
     "output_type": "execute_result"
    }
   ],
   "source": [
    "normalized_mutual_info_score(labels, kmeans_cs.labels_)"
   ]
  },
  {
   "cell_type": "code",
   "execution_count": null,
   "metadata": {},
   "outputs": [],
   "source": []
  }
 ],
 "metadata": {
  "kernelspec": {
   "display_name": "Python 3",
   "language": "python",
   "name": "python3"
  },
  "language_info": {
   "codemirror_mode": {
    "name": "ipython",
    "version": 3
   },
   "file_extension": ".py",
   "mimetype": "text/x-python",
   "name": "python",
   "nbconvert_exporter": "python",
   "pygments_lexer": "ipython3",
   "version": "3.8.3"
  }
 },
 "nbformat": 4,
 "nbformat_minor": 4
}
