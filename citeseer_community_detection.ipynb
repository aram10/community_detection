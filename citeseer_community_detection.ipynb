{
 "cells": [
  {
   "cell_type": "code",
   "execution_count": null,
   "metadata": {},
   "outputs": [],
   "source": [
    "import matplotlib.pyplot as plt\n",
    "import numpy as np\n",
    "import pandas as pd\n",
    "import tensorflow as tf\n",
    "import networkx as nx\n",
    "import random\n",
    "import pickle\n",
    "import itertools\n",
    "import math\n",
    "import urllib.request as urllib\n",
    "import io\n",
    "import zipfile\n",
    "\n",
    "from sklearn.metrics import accuracy_score, precision_score, recall_score\n",
    "from sklearn.model_selection import train_test_split\n",
    "from tensorflow import keras\n",
    "from tensorflow.keras import layers\n",
    "from tensorflow.keras import layers, losses\n",
    "from tensorflow.keras.models import Model\n",
    "from tensorflow.linalg import diag\n",
    "from tensorflow.keras import callbacks\n",
    "from sklearn.cluster import KMeans\n",
    "from sklearn.metrics.cluster import normalized_mutual_info_score\n",
    "from networkx.generators.community import LFR_benchmark_graph\n",
    "from itertools import count\n",
    "from scipy.spatial import distance_matrix\n",
    "\n",
    "from helpers import *\n",
    "from Autoencoder import *"
   ]
  },
  {
   "cell_type": "code",
   "execution_count": null,
   "metadata": {},
   "outputs": [],
   "source": [
    "cs = pickle.load(open('citeseer.p', 'rb'))"
   ]
  },
  {
   "cell_type": "code",
   "execution_count": null,
   "metadata": {},
   "outputs": [],
   "source": [
    "#3311-512-256-128-64\n",
    "\n",
    "#modularity\n",
    "X_cs_1 = tf.convert_to_tensor(nx.modularity_matrix(cs).astype('float32'))"
   ]
  },
  {
   "cell_type": "code",
   "execution_count": null,
   "metadata": {},
   "outputs": [],
   "source": [
    "#train new network\n",
    "ae_cs_1 = Autoencoder(3311, 512, k_reg=tf.keras.regularizers.L2(), sparse=True)\n",
    "history_cs_1 = train(ae_cs_1, 5000, 3312, X_cs_1)\n",
    "\n",
    "X_cs_2 = ae_cs_1.encoder(X_cs_1)\n",
    "\n",
    "ae_cs_2 = Autoencoder(512, 256, k_reg=tf.keras.regularizers.L2(), sparse=True)\n",
    "history_cs_2 = train(ae_cs_2, 5000, 512, X_cs_2)\n",
    "\n",
    "X_cs_3 = ae_cs_2.encoder(X_cs_2)\n",
    "\n",
    "ae_cs_3 = Autoencoder(256, 128, k_reg=tf.keras.regularizers.L2(), sparse=True)\n",
    "history_cs_3 = train(ae_cs_3, 5000, 256, X_cs_3)\n",
    "\n",
    "X_cs_4 = ae_cs_3.encoder(X_cs_3)\n",
    "\n",
    "ae_cs_4 = Autoencoder(128, 64, k_reg=tf.keras.regularizers.L2(), sparse=True)\n",
    "history_cs_4 = train(ae_cs_4, 5000, 128, X_cs_4)"
   ]
  },
  {
   "cell_type": "code",
   "execution_count": null,
   "metadata": {},
   "outputs": [],
   "source": [
    "#train existing network\n",
    "history_cs_1 = train(ae_cs_1, 10000, 3312, X_cs_1)\n",
    "\n",
    "X_cs_2 = ae_cs_1.encoder(X_cs_1)\n",
    "\n",
    "history_cs_2 = train(ae_cs_2, 10000, 512, X_cs_2)\n",
    "\n",
    "X_cs_3 = ae_cs_2.encoder(X_cs_2)\n",
    "\n",
    "history_cs_3 = train(ae_cs_3, 10000, 256, X_cs_3)\n",
    "\n",
    "X_cs_4 = ae_cs_3.encoder(X_cs_3)\n",
    "\n",
    "history_cs_4 = train(ae_cs_4, 10000, 128, X_cs_4)"
   ]
  },
  {
   "cell_type": "code",
   "execution_count": null,
   "metadata": {},
   "outputs": [],
   "source": [
    "H_cs = ae_cs_1.encoder(X_cs_1)\n",
    "labels = cora_labels(cs)\n",
    "kmeans_cs = KMeans(n_clusters=6, random_state=0).fit(H_cs)"
   ]
  },
  {
   "cell_type": "code",
   "execution_count": null,
   "metadata": {},
   "outputs": [],
   "source": [
    "normalized_mutual_info_score(labels, kmeans_cs.labels_)"
   ]
  }
 ],
 "metadata": {
  "kernelspec": {
   "display_name": "Python 3",
   "language": "python",
   "name": "python3"
  },
  "language_info": {
   "codemirror_mode": {
    "name": "ipython",
    "version": 3
   },
   "file_extension": ".py",
   "mimetype": "text/x-python",
   "name": "python",
   "nbconvert_exporter": "python",
   "pygments_lexer": "ipython3",
   "version": "3.8.3"
  }
 },
 "nbformat": 4,
 "nbformat_minor": 4
}
