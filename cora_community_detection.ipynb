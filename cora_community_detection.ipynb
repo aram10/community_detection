{
 "cells": [
  {
   "cell_type": "code",
   "execution_count": 1,
   "metadata": {},
   "outputs": [],
   "source": [
    "import matplotlib.pyplot as plt\n",
    "import numpy as np\n",
    "import pandas as pd\n",
    "import tensorflow as tf\n",
    "import networkx as nx\n",
    "import random\n",
    "import pickle\n",
    "import itertools\n",
    "import math\n",
    "import urllib.request as urllib\n",
    "import io\n",
    "import zipfile\n",
    "\n",
    "from sklearn.metrics import accuracy_score, precision_score, recall_score\n",
    "from sklearn.model_selection import train_test_split\n",
    "from sklearn.metrics.pairwise import cosine_similarity\n",
    "from tensorflow import keras\n",
    "from tensorflow.keras import layers\n",
    "from tensorflow.keras import layers, losses\n",
    "from tensorflow.keras.models import Model\n",
    "from tensorflow.linalg import diag\n",
    "from tensorflow.keras import callbacks\n",
    "from sklearn.cluster import KMeans\n",
    "from sklearn.metrics.cluster import normalized_mutual_info_score\n",
    "from networkx.generators.community import LFR_benchmark_graph\n",
    "from itertools import count\n",
    "from scipy.spatial import distance_matrix\n",
    "from sklearn.decomposition import NMF\n",
    "\n",
    "\n",
    "from helpers import *\n",
    "from Autoencoder import *"
   ]
  },
  {
   "cell_type": "code",
   "execution_count": 2,
   "metadata": {},
   "outputs": [],
   "source": [
    "#CORA\n",
    "cora = pickle.load(open('graphs/cora.p', 'rb'))"
   ]
  },
  {
   "cell_type": "code",
   "execution_count": 3,
   "metadata": {},
   "outputs": [],
   "source": [
    "#adjacency\n",
    "A = create_adjacency_matrix(cora)"
   ]
  },
  {
   "cell_type": "code",
   "execution_count": 4,
   "metadata": {},
   "outputs": [],
   "source": [
    "#modularity B\n",
    "X_cora_modularity = tf.convert_to_tensor(nx.modularity_matrix(cora).astype('float32'))\n",
    "\n",
    "#similarity (Sørensen–Dice) S\n",
    "X_cora_similarity = tf.convert_to_tensor(adjacency_to_similarity(A).astype('float32'))\n",
    "\n",
    "#probability transition T\n",
    "X_cora_prob_trans = tf.convert_to_tensor(probability_transition_matrix(A, 4))\n",
    "\n",
    "X_cora_features = create_feature_matrix(cora, 1433)\n",
    "X_cos_sim = cosine_similarity(X_cora_features)\n",
    "X_cos_sim = top_k(X_cos_sim, int(average_community_size(cora_labels(cora))))\n",
    "X_cora_markov = tf.convert_to_tensor(markov_matrix(A, X_cos_sim).astype('float32'))"
   ]
  },
  {
   "cell_type": "code",
   "execution_count": null,
   "metadata": {},
   "outputs": [],
   "source": [
    "ae_cora_1 = Autoencoder(2708, 512, k_reg=tf.keras.regularizers.L2(), act_reg=SparseRegularizer())\n",
    "history_cora_1 = train(ae_cora_1, 5000, 2708, X_cora_1)\n",
    "\n",
    "X_cora_2 = ae_cora_1.encoder(X_cora_1)\n",
    "\n",
    "ae_cora_2 = Autoencoder(512, 256, k_reg=tf.keras.regularizers.L2(), act_reg=SparseRegularizer())\n",
    "history_cora_2 = train(ae_cora_2, 5000, 512, X_cora_2)\n",
    "\n",
    "X_cora_3 = ae_cora_2.encoder(X_cora_2)\n",
    "\n",
    "ae_cora_3 = Autoencoder(256, 128, k_reg=tf.keras.regularizers.L2(), act_reg=SparseRegularizer())\n",
    "history_cora_3 = train(ae_cora_3, 5000, 256, X_cora_3)"
   ]
  },
  {
   "cell_type": "code",
   "execution_count": null,
   "metadata": {},
   "outputs": [],
   "source": [
    "#combining stacked autoencoders into deep autoencoder and fine tuning parameters\n",
    "ae_cora_1 = tf.keras.models.load_model('C:/Users/Owner/Documents/community_detection/trained/cora_modularity/cora_L2_sparse_5000iter_1', custom_objects={'SparseRegularizer': SparseRegularizer})\n",
    "ae_cora_2 = tf.keras.models.load_model('C:/Users/Owner/Documents/community_detection/trained/cora_modularity/cora_L2_sparse_5000iter_2', custom_objects={'SparseRegularizer': SparseRegularizer})\n",
    "ae_cora_3 = tf.keras.models.load_model('C:/Users/Owner/Documents/community_detection/trained/cora_modularity/cora_L2_sparse_5000iter_3', custom_objects={'SparseRegularizer': SparseRegularizer})\n",
    "\n",
    "combined_encoder = tf.keras.Sequential()\n",
    "combined_decoder = tf.keras.Sequential()\n",
    "\n",
    "combined_encoder.add(ae_cora_1.encoder.layers[0])\n",
    "combined_encoder.add(ae_cora_2.encoder.layers[0])\n",
    "combined_encoder.add(ae_cora_3.encoder.layers[0])\n",
    "\n",
    "combined_decoder.add(ae_cora_3.decoder.layers[0])\n",
    "combined_decoder.add(ae_cora_2.decoder.layers[0])\n",
    "combined_decoder.add(ae_cora_1.decoder.layers[0])\n",
    "\n",
    "ae_combined=Autoencoder(2708, 128, learning_rate=0.0001)\n",
    "ae_combined.encoder=combined_encoder\n",
    "ae_combined.decoder=combined_decoder\n",
    "\n",
    "ae_combined.build(input_shape=(None, 2708))\n",
    "\n",
    "combined_history = train(ae_combined, 500, 2708, X_cora_1)\n",
    "\n",
    "H_cora_combined = ae_combined.encoder(X_cora_1)\n",
    "labels_combined = cora_labels(cora)\n",
    "kmeans_cora_combined = KMeans(n_clusters=7, n_init=20).fit(H_cora_combined)\n",
    "\n",
    "normalized_mutual_info_score(labels_combined, kmeans_cora_combined.labels_)"
   ]
  },
  {
   "cell_type": "code",
   "execution_count": null,
   "metadata": {},
   "outputs": [],
   "source": [
    "#ensemble learning\n",
    "\n",
    "ae_cora_modularity_1 = tf.keras.models.load_model('C:/Users/Owner/Documents/community_detection/trained/cora_modularity/cora_L2_sparse_5000iter_1', custom_objects={'SparseRegularizer': SparseRegularizer})\n",
    "ae_cora_modularity_2 = tf.keras.models.load_model('C:/Users/Owner/Documents/community_detection/trained/cora_modularity/cora_L2_sparse_5000iter_2', custom_objects={'SparseRegularizer': SparseRegularizer})\n",
    "ae_cora_modularity_3 = tf.keras.models.load_model('C:/Users/Owner/Documents/community_detection/trained/cora_modularity/cora_L2_sparse_5000iter_3', custom_objects={'SparseRegularizer': SparseRegularizer})\n",
    "\n",
    "X_modularity_1 = tf.convert_to_tensor(nx.modularity_matrix(cora).astype('float32'))\n",
    "X_modularity_2 = ae_cora_modularity_1.encoder(X_modularity_1)\n",
    "X_modularity_3 = ae_cora_modularity_2.encoder(X_modularity_2)\n",
    "H_modularity = ae_cora_modularity_3.encoder(X_modularity_3)\n",
    "\n",
    "ae_cora_similarity = tf.keras.models.load_model('C:/Users/Owner/Documents/community_detection/trained/cora_similarity/cora_L2_sparse_5000iter_combined', custom_objects={'SparseRegularizer': SparseRegularizer})\n",
    "\n",
    "X_similarity = tf.convert_to_tensor(adjacency_to_similarity(create_adjacency_matrix(cora)).astype('float32'))\n",
    "H_similarity = ae_cora_similarity.encoder(X_similarity)\n",
    "\n",
    "ae_cora_prob_trans = tf.keras.models.load_model('C:/Users/Owner/Documents/community_detection/trained/cora_prob_trans/cora_L2_sparse_5000iter_combined', custom_objects={'SparseRegularizer': SparseRegularizer})\n",
    "\n",
    "X_prob_trans = tf.convert_to_tensor(probability_transition_matrix(create_adjacency_matrix(cora), 4))\n",
    "H_prob_trans = ae_cora_prob_trans.encoder(X_prob_trans)\n"
   ]
  },
  {
   "cell_type": "code",
   "execution_count": null,
   "metadata": {},
   "outputs": [],
   "source": [
    "labels = cora_labels(cora)"
   ]
  },
  {
   "cell_type": "code",
   "execution_count": null,
   "metadata": {},
   "outputs": [],
   "source": [
    "kmeans_modularity = KMeans(n_clusters=7, n_init=20).fit(H_modularity)\n",
    "kmeans_similarity = KMeans(n_clusters=7, n_init=20).fit(H_similarity)\n",
    "kmeans_prob_trans = KMeans(n_clusters=7, n_init=20).fit(H_prob_trans)"
   ]
  },
  {
   "cell_type": "code",
   "execution_count": null,
   "metadata": {},
   "outputs": [],
   "source": [
    "modularity_pairwise = create_pairwise_community_membership_matrix(kmeans_modularity.labels_)\n",
    "similarity_pairwise = create_pairwise_community_membership_matrix(kmeans_similarity.labels_)\n",
    "prob_trans_pairwise = create_pairwise_community_membership_matrix(kmeans_prob_trans.labels_)"
   ]
  },
  {
   "cell_type": "code",
   "execution_count": null,
   "metadata": {},
   "outputs": [],
   "source": [
    "Q = np.average(np.array([modularity_pairwise, similarity_pairwise, prob_trans_pairwise]), axis=0)"
   ]
  },
  {
   "cell_type": "code",
   "execution_count": null,
   "metadata": {},
   "outputs": [],
   "source": [
    "nmf_model = NMF(n_components=7, solver='mu', max_iter=1000)"
   ]
  },
  {
   "cell_type": "code",
   "execution_count": null,
   "metadata": {},
   "outputs": [],
   "source": [
    "nmf_model.fit(Q)"
   ]
  },
  {
   "cell_type": "code",
   "execution_count": null,
   "metadata": {},
   "outputs": [],
   "source": [
    "W = nmf_model.transform(Q)\n",
    "H = nmf_model.components_"
   ]
  },
  {
   "cell_type": "code",
   "execution_count": null,
   "metadata": {},
   "outputs": [],
   "source": [
    "clustering_labels = nmf_cluster_membership(H)"
   ]
  },
  {
   "cell_type": "code",
   "execution_count": null,
   "metadata": {},
   "outputs": [],
   "source": [
    "normalized_mutual_info_score(labels, clustering_labels)"
   ]
  },
  {
   "cell_type": "code",
   "execution_count": 5,
   "metadata": {},
   "outputs": [
    {
     "name": "stdout",
     "output_type": "stream",
     "text": [
      "WARNING:tensorflow:No training configuration found in save file, so the model was *not* compiled. Compile it manually.\n"
     ]
    }
   ],
   "source": [
    "ae_cora_1 = tf.keras.models.load_model('C:/Users/Owner/Documents/community_detection/trained/cora_transfer/cora_transfer_BSTM_1', custom_objects={'SparseRegularizer': SparseRegularizer})"
   ]
  },
  {
   "cell_type": "code",
   "execution_count": 6,
   "metadata": {},
   "outputs": [],
   "source": [
    "H_cora_modularity = ae_cora_1.encoder(X_cora_modularity)\n",
    "H_cora_similarity = ae_cora_1.encoder(X_cora_similarity)\n",
    "H_cora_prob_trans = ae_cora_1.encoder(X_cora_prob_trans)\n",
    "H_cora_markov = ae_cora_1.encoder(X_cora_markov)"
   ]
  },
  {
   "cell_type": "code",
   "execution_count": 9,
   "metadata": {},
   "outputs": [],
   "source": [
    "ae_cora_2 = Autoencoder(512, 256, k_reg=tf.keras.regularizers.L2(), act_reg=SparseRegularizer())"
   ]
  },
  {
   "cell_type": "code",
   "execution_count": 10,
   "metadata": {},
   "outputs": [],
   "source": [
    "ae_cora_2.history = {}\n",
    "history_1 = train(ae_cora_2, 5000, 512, H_cora_prob_trans)"
   ]
  },
  {
   "cell_type": "code",
   "execution_count": 16,
   "metadata": {},
   "outputs": [],
   "source": [
    "history_modularity_markov_similarity_2 = train(mod_model_2, 5000, 512, H_cora_similarity)"
   ]
  },
  {
   "cell_type": "code",
   "execution_count": 19,
   "metadata": {},
   "outputs": [],
   "source": [
    "history_modularity_similarity_prob_trans_2 = train(mod_model_2, 5000, 512, H_cora_prob_trans)"
   ]
  },
  {
   "cell_type": "code",
   "execution_count": 13,
   "metadata": {},
   "outputs": [],
   "source": [
    "history_modularity_similarity_prob_trans_markov_2 = train(mod_model_2, 5000, 512, H_cora_markov)"
   ]
  },
  {
   "cell_type": "code",
   "execution_count": 26,
   "metadata": {},
   "outputs": [
    {
     "data": {
      "text/plain": [
       "0.5070735990403337"
      ]
     },
     "execution_count": 26,
     "metadata": {},
     "output_type": "execute_result"
    }
   ],
   "source": [
    "H_cora_combined = ae_cora_1.encoder(X_cora_prob_trans)\n",
    "labels_combined = cora_labels(cora)\n",
    "kmeans_cora_combined = KMeans(n_clusters=7, n_init=20).fit(H_cora_combined)\n",
    "\n",
    "normalized_mutual_info_score(labels_combined, kmeans_cora_combined.labels_)"
   ]
  },
  {
   "cell_type": "code",
   "execution_count": 33,
   "metadata": {},
   "outputs": [
    {
     "name": "stdout",
     "output_type": "stream",
     "text": [
      "INFO:tensorflow:Assets written to: C:/Users/Owner/Documents/community_detection/trained/cora_transfer/cora_transfer_BSTM_1\\assets\n"
     ]
    }
   ],
   "source": [
    "mod_model_1.save('C:/Users/Owner/Documents/community_detection/trained/cora_transfer/cora_transfer_BSTM_1')"
   ]
  },
  {
   "cell_type": "code",
   "execution_count": null,
   "metadata": {},
   "outputs": [],
   "source": []
  }
 ],
 "metadata": {
  "kernelspec": {
   "display_name": "Python 3",
   "language": "python",
   "name": "python3"
  },
  "language_info": {
   "codemirror_mode": {
    "name": "ipython",
    "version": 3
   },
   "file_extension": ".py",
   "mimetype": "text/x-python",
   "name": "python",
   "nbconvert_exporter": "python",
   "pygments_lexer": "ipython3",
   "version": "3.8.3"
  }
 },
 "nbformat": 4,
 "nbformat_minor": 4
}
