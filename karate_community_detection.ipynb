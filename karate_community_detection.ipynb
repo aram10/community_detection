{
 "cells": [
  {
   "cell_type": "code",
   "execution_count": null,
   "metadata": {},
   "outputs": [],
   "source": [
    "import matplotlib.pyplot as plt\n",
    "import numpy as np\n",
    "import pandas as pd\n",
    "import tensorflow as tf\n",
    "import networkx as nx\n",
    "import random\n",
    "import pickle\n",
    "import itertools\n",
    "import math\n",
    "import urllib.request as urllib\n",
    "import io\n",
    "import zipfile\n",
    "\n",
    "from sklearn.metrics import accuracy_score, precision_score, recall_score\n",
    "from sklearn.model_selection import train_test_split\n",
    "from tensorflow import keras\n",
    "from tensorflow.keras import layers\n",
    "from tensorflow.keras import layers, losses\n",
    "from tensorflow.keras.models import Model\n",
    "from tensorflow.linalg import diag\n",
    "from tensorflow.keras import callbacks\n",
    "from sklearn.cluster import KMeans\n",
    "from sklearn.metrics.cluster import normalized_mutual_info_score\n",
    "from networkx.generators.community import LFR_benchmark_graph\n",
    "from itertools import count\n",
    "\n",
    "from helpers import *\n",
    "from Autoencoder import *"
   ]
  },
  {
   "cell_type": "code",
   "execution_count": null,
   "metadata": {},
   "outputs": [],
   "source": [
    "kc = pickle.load(open(\"kc.p\", \"rb\"))\n",
    "\n",
    "X_kc_1 = tf.convert_to_tensor(nx.modularity_matrix(kc).astype('float32'))\n",
    "\n",
    "ae_kc_1 = Autoencoder(34, 32)\n",
    "train(ae_kc_1, 5000, 34, X_kc_1)\n",
    "\n",
    "X_kc_2 = ae_kc_1.encoder(X_kc_1)\n",
    "ae_kc_2 = Autoencoder(32, 16)\n",
    "train(ae_kc_2, 5000, 32, X_kc_2)"
   ]
  },
  {
   "cell_type": "code",
   "execution_count": null,
   "metadata": {},
   "outputs": [],
   "source": [
    "H_kc_2 = ae_kc_2.encoder(X_kc_2)\n",
    "kmeans = KMeans(n_clusters=2, random_state=0).fit(H_kc_2)\n",
    "labels = karate_club_labels(kc)"
   ]
  },
  {
   "cell_type": "code",
   "execution_count": null,
   "metadata": {},
   "outputs": [],
   "source": [
    "normalized_mutual_info_score(labels, kmeans.labels_)"
   ]
  }
 ],
 "metadata": {
  "kernelspec": {
   "display_name": "Python 3",
   "language": "python",
   "name": "python3"
  },
  "language_info": {
   "codemirror_mode": {
    "name": "ipython",
    "version": 3
   },
   "file_extension": ".py",
   "mimetype": "text/x-python",
   "name": "python",
   "nbconvert_exporter": "python",
   "pygments_lexer": "ipython3",
   "version": "3.8.3"
  }
 },
 "nbformat": 4,
 "nbformat_minor": 4
}
