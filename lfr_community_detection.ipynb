{
 "cells": [
  {
   "cell_type": "code",
   "execution_count": null,
   "metadata": {},
   "outputs": [],
   "source": [
    "import matplotlib.pyplot as plt\n",
    "import numpy as np\n",
    "import pandas as pd\n",
    "import tensorflow as tf\n",
    "import networkx as nx\n",
    "import random\n",
    "import pickle\n",
    "import itertools\n",
    "import math\n",
    "import urllib.request as urllib\n",
    "import io\n",
    "import zipfile\n",
    "\n",
    "from sklearn.metrics import accuracy_score, precision_score, recall_score\n",
    "from sklearn.model_selection import train_test_split\n",
    "from tensorflow import keras\n",
    "from tensorflow.keras import layers\n",
    "from tensorflow.keras import layers, losses\n",
    "from tensorflow.keras.models import Model\n",
    "from tensorflow.linalg import diag\n",
    "from tensorflow.keras import callbacks\n",
    "from sklearn.cluster import KMeans\n",
    "from sklearn.metrics.cluster import normalized_mutual_info_score\n",
    "from networkx.generators.community import LFR_benchmark_graph\n",
    "from itertools import count\n",
    "\n",
    "from helpers import *\n",
    "from Autoencoder import *"
   ]
  },
  {
   "cell_type": "code",
   "execution_count": null,
   "metadata": {},
   "outputs": [],
   "source": [
    "#mu=0.1\n",
    "lfr1 = pickle.load(open(\"lfr_1.p\", \"rb\"))\n",
    "\n",
    "X_lfr1_1 = tf.convert_to_tensor(nx.modularity_matrix(lfr1).astype('float32'))\n",
    "ae_lfr1_1 = Autoencoder(1000, 512, k_reg=tf.keras.regularizers.L2(), sparse=True)\n",
    "history_lfr1_1 = train(ae_lfr1_1, 10000, 1000, X_lfr1_1)\n",
    "\n",
    "X_lfr1_2 = ae_lfr1_1.encoder(X_lfr1_1)\n",
    "ae_lfr1_2 = Autoencoder(512, 256, k_reg=tf.keras.regularizers.L2(), sparse=True)\n",
    "history_lfr1_2 = train(ae_lfr1_2, 10000, 512, X_lfr1_2)\n",
    "\n",
    "X_lfr1_3 = ae_lfr1_2.encoder(X_lfr1_2)\n",
    "ae_lfr1_3 = Autoencoder(256, 128, k_reg=tf.keras.regularizers.L2(), sparse=True)\n",
    "history_lfr1_3 = train(ae_lfr1_3, 10000, 256, X_lfr1_3)\n",
    "\n",
    "H_lfr1 = ae_lfr1_3.encoder(X_lfr1_3)\n",
    "\n",
    "lfr1_labels = get_community_labels(lfr1, 'community')\n",
    "kmeans_lfr1 = KMeans(n_clusters=get_num_communities(lfr1, 'community'), random_state=0).fit(H_lfr1)\n",
    "normalized_mutual_info_score(lfr1_labels, kmeans_lfr1.labels_)"
   ]
  },
  {
   "cell_type": "code",
   "execution_count": null,
   "metadata": {
    "code_folding": []
   },
   "outputs": [],
   "source": [
    "#mu=0.3\n",
    "lfr2 = pickle.load(open(\"lfr_2.p\", \"rb\"))\n",
    "\n",
    "X_lfr2_1 = tf.convert_to_tensor(nx.modularity_matrix(lfr2).astype('float32'))\n",
    "ae_lfr2_1 = Autoencoder(1000, 512, k_reg=tf.keras.regularizers.L2(), sparse=True)\n",
    "history_lfr2_1 = train(ae_lfr2_1, 10000, 1000, X_lfr2_1)\n",
    "\n",
    "X_lfr2_2 = ae_lfr2_1.encoder(X_lfr2_1)\n",
    "ae_lfr2_2 = Autoencoder(512, 256, k_reg=tf.keras.regularizers.L2(), sparse=True)\n",
    "history_lfr2_2 = train(ae_lfr2_2, 10000, 512, X_lfr2_2)\n",
    "\n",
    "X_lfr2_3 = ae_lfr2_2.encoder(X_lfr2_2)\n",
    "ae_lfr2_3 = Autoencoder(256, 128, k_reg=tf.keras.regularizers.L2(), sparse=True)\n",
    "history_lfr2_3 = train(ae_lfr2_3, 10000, 256, X_lfr2_3)\n",
    "\n",
    "H_lfr2 = ae_lfr2_3.encoder(X_lfr2_3)\n",
    "\n",
    "lfr2_labels = get_community_labels(lfr2, 'community')\n",
    "kmeans_lfr2 = KMeans(n_clusters=get_num_communities(lfr2, 'community'), random_state=0).fit(H_lfr2)\n",
    "normalized_mutual_info_score(lfr2_labels, kmeans_lfr2.labels_)"
   ]
  },
  {
   "cell_type": "code",
   "execution_count": null,
   "metadata": {},
   "outputs": [],
   "source": [
    "#mu=0.5\n",
    "lfr3 = pickle.load(open(\"graphs/lfr_3.p\", \"rb\"))\n",
    "\n",
    "#modularity\n",
    "X_lfr3_1 = tf.convert_to_tensor(nx.modularity_matrix(lfr3).astype('float32'))\n",
    "\n",
    "#similarity\n",
    "#X_lfr3_1 = tf.convert_to_tensor(adjacency_to_similarity(create_adjacency_matrix(lfr3)).astype('float32'))\n",
    "\n",
    "#probability transition\n",
    "#X_lfr3_1 = tf.convert_to_tensor(probability_transition_matrix(create_adjacency_matrix(lfr3), 4))"
   ]
  },
  {
   "cell_type": "code",
   "execution_count": null,
   "metadata": {},
   "outputs": [],
   "source": [
    "ae_lfr3_1 = Autoencoder(1000, 512, k_reg=tf.keras.regularizers.L2(), act_reg=SparseRegularizer())\n",
    "history_lfr3_1 = train(ae_lfr3_1, 15000, 1000, X_lfr3_1)\n",
    "\n",
    "X_lfr3_2 = ae_lfr3_1.encoder(X_lfr3_1)\n",
    "ae_lfr3_2 = Autoencoder(512, 256, k_reg=tf.keras.regularizers.L2(), act_reg=SparseRegularizer())\n",
    "history_lfr3_2 = train(ae_lfr3_2, 15000, 512, X_lfr3_2)\n",
    "\n",
    "X_lfr3_3 = ae_lfr3_2.encoder(X_lfr3_2)\n",
    "ae_lfr3_3 = Autoencoder(256, 128, k_reg=tf.keras.regularizers.L2(), act_reg=SparseRegularizer())\n",
    "history_lfr3_3 = train(ae_lfr3_3, 15000, 256, X_lfr3_3)\n",
    "\n",
    "H_lfr3 = ae_lfr3_3.encoder(X_lfr3_3)"
   ]
  },
  {
   "cell_type": "code",
   "execution_count": null,
   "metadata": {},
   "outputs": [],
   "source": [
    "lfr3_labels = get_community_labels(lfr3, 'community')\n",
    "kmeans_lfr3 = KMeans(n_clusters=get_num_communities(lfr3, 'community'), random_state=0).fit(X_lfr3_2)\n",
    "normalized_mutual_info_score(lfr3_labels, kmeans_lfr3.labels_)"
   ]
  },
  {
   "cell_type": "code",
   "execution_count": null,
   "metadata": {},
   "outputs": [],
   "source": [
    "X_lfr3_2 = ae_lfr3_1.encoder(X_lfr3_1)\n",
    "X_lfr3_3 = ae_lfr3_2.encoder(X_lfr3_2)\n",
    "H_lfr3 = ae_lfr3_3.encoder(X_lfr3_3)\n",
    "\n",
    "lfr3_labels = get_community_labels(lfr3, 'community')\n",
    "kmeans_lfr3 = KMeans(n_clusters=get_num_communities(lfr3, 'community'), random_state=0).fit(H_lfr3)\n",
    "normalized_mutual_info_score(lfr3_labels, kmeans_lfr3.labels_)"
   ]
  },
  {
   "cell_type": "code",
   "execution_count": null,
   "metadata": {},
   "outputs": [],
   "source": [
    "#mu=0.7\n",
    "lfr4 = pickle.load(open(\"lfr_4.p\", \"rb\"))\n",
    "\n",
    "#modularity\n",
    "#X_lfr4_1 = tf.convert_to_tensor(nx.modularity_matrix(lfr4).astype('float32'))\n",
    "\n",
    "#similarity\n",
    "X_lfr4_1 = tf.convert_to_tensor(adjacency_to_similarity(create_adjacency_matrix(lfr4)).astype('float32'))\n",
    "\n",
    "ae_lfr4_1 = Autoencoder(1000, 512, sparse=True)\n",
    "history_lfr4_1 = train(ae_lfr4_1, 50000, 1000, X_lfr4_1)\n",
    "\n",
    "X_lfr4_2 = ae_lfr4_1.encoder(X_lfr4_1)\n",
    "ae_lfr4_2 = Autoencoder(512, 256, sparse=True)\n",
    "history_lfr4_2 = train(ae_lfr4_2, 50000, 512, X_lfr4_2)\n",
    "\n",
    "X_lfr4_3 = ae_lfr4_2.encoder(X_lfr4_2)\n",
    "ae_lfr4_3 = Autoencoder(256, 128, sparse=True)\n",
    "history_lfr4_3 = train(ae_lfr4_3, 50000, 256, X_lfr4_3)\n",
    "\n",
    "H_lfr4 = ae_lfr4_3.encoder(X_lfr4_3)\n",
    "\n",
    "lfr4_labels = get_community_labels(lfr4, 'community')\n",
    "kmeans_lfr4 = KMeans(n_clusters=get_num_communities(lfr4, 'community'), random_state=0).fit(H_lfr4)\n",
    "normalized_mutual_info_score(lfr4_labels, kmeans_lfr4.labels_)"
   ]
  }
 ],
 "metadata": {
  "kernelspec": {
   "display_name": "Python 3",
   "language": "python",
   "name": "python3"
  },
  "language_info": {
   "codemirror_mode": {
    "name": "ipython",
    "version": 3
   },
   "file_extension": ".py",
   "mimetype": "text/x-python",
   "name": "python",
   "nbconvert_exporter": "python",
   "pygments_lexer": "ipython3",
   "version": "3.8.3"
  }
 },
 "nbformat": 4,
 "nbformat_minor": 4
}
