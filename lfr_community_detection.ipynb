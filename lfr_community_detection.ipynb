{
 "cells": [
  {
   "cell_type": "code",
   "execution_count": 1,
   "metadata": {},
   "outputs": [],
   "source": [
    "import matplotlib.pyplot as plt\n",
    "import numpy as np\n",
    "import pandas as pd\n",
    "import tensorflow as tf\n",
    "import networkx as nx\n",
    "import random\n",
    "import pickle\n",
    "import itertools\n",
    "import math\n",
    "import urllib.request as urllib\n",
    "import io\n",
    "import zipfile\n",
    "\n",
    "from sklearn.metrics import accuracy_score, precision_score, recall_score\n",
    "from sklearn.model_selection import train_test_split\n",
    "from tensorflow import keras\n",
    "from tensorflow.keras import layers\n",
    "from tensorflow.keras import layers, losses\n",
    "from tensorflow.keras.models import Model\n",
    "from tensorflow.linalg import diag\n",
    "from func_timeout import func_timeout, FunctionTimedOut\n",
    "from tensorflow.keras import callbacks\n",
    "from sklearn.cluster import KMeans\n",
    "from sklearn.metrics.cluster import normalized_mutual_info_score\n",
    "from networkx.generators.community import LFR_benchmark_graph\n",
    "from itertools import count\n",
    "\n",
    "from helpers import *\n",
    "from Autoencoder import *"
   ]
  },
  {
   "cell_type": "code",
   "execution_count": 3,
   "metadata": {},
   "outputs": [
    {
     "data": {
      "text/plain": [
       "1.0"
      ]
     },
     "execution_count": 3,
     "metadata": {},
     "output_type": "execute_result"
    }
   ],
   "source": [
    "#mu=0.1\n",
    "lfr1 = pickle.load(open(\"lfr_1.p\", \"rb\"))\n",
    "\n",
    "X_lfr1_1 = tf.convert_to_tensor(nx.modularity_matrix(lfr1).astype('float32'))\n",
    "ae_lfr1_1 = Autoencoder(1000, 512, k_reg=tf.keras.regularizers.L2(), dropout=True)\n",
    "train(ae_lfr1_1, 5000, 1000, X_lfr1_1)\n",
    "X_lfr1_2 = ae_lfr1_1.encoder(X_lfr1_1)\n",
    "ae_lfr1_2 = Autoencoder(512, 256, k_reg=tf.keras.regularizers.L2(), dropout=True)\n",
    "train(ae_lfr1_2, 5000, 512, X_lfr1_2)\n",
    "X_lfr1_3 = ae_lfr1_2.encoder(X_lfr1_2)\n",
    "ae_lfr1_3 = Autoencoder(256, 128, k_reg=tf.keras.regularizers.L2(), dropout=True)\n",
    "train(ae_lfr1_3, 5000, 256, X_lfr1_3)\n",
    "H_lfr1 = ae_lfr1_3.encoder(X_lfr1_3)\n",
    "\n",
    "lfr1_labels = get_community_labels(lfr1, 'community')\n",
    "kmeans_lfr1 = KMeans(n_clusters=get_num_communities(lfr1, 'community'), random_state=0).fit(H_lfr1)\n",
    "normalized_mutual_info_score(lfr1_labels, kmeans_lfr1.labels_)"
   ]
  },
  {
   "cell_type": "code",
   "execution_count": 3,
   "metadata": {},
   "outputs": [
    {
     "data": {
      "text/plain": [
       "0.9554422176335378"
      ]
     },
     "execution_count": 3,
     "metadata": {},
     "output_type": "execute_result"
    }
   ],
   "source": [
    "#mu=0.3\n",
    "lfr2 = pickle.load(open(\"lfr_2.p\", \"rb\"))\n",
    "\n",
    "X_lfr2_1 = tf.convert_to_tensor(nx.modularity_matrix(lfr2).astype('float32'))\n",
    "ae_lfr2_1 = Autoencoder(1000, 512)\n",
    "train(ae_lfr2_1, 5000, 1000, X_lfr2_1)\n",
    "X_lfr2_2 = ae_lfr2_1.encoder(X_lfr2_1)\n",
    "ae_lfr2_2 = Autoencoder(512, 256)\n",
    "train(ae_lfr2_2, 5000, 512, X_lfr2_2)\n",
    "X_lfr2_3 = ae_lfr2_2.encoder(X_lfr2_2)\n",
    "ae_lfr2_3 = Autoencoder(256, 128)\n",
    "train(ae_lfr2_3, 5000, 256, X_lfr2_3)\n",
    "H_lfr2 = ae_lfr2_3.encoder(X_lfr2_3)\n",
    "\n",
    "lfr2_labels = get_community_labels(lfr2, 'community')\n",
    "kmeans_lfr2 = KMeans(n_clusters=get_num_communities(lfr2, 'community'), random_state=0).fit(H_lfr2)\n",
    "normalized_mutual_info_score(lfr2_labels, kmeans_lfr2.labels_)"
   ]
  },
  {
   "cell_type": "code",
   "execution_count": 2,
   "metadata": {},
   "outputs": [
    {
     "name": "stderr",
     "output_type": "stream",
     "text": [
      "<ipython-input-2-346ea528a792>:16: ConvergenceWarning: Number of distinct clusters (1) found smaller than n_clusters (14). Possibly due to duplicate points in X.\n",
      "  kmeans_lfr3 = KMeans(n_clusters=get_num_communities(lfr3, 'community'), random_state=0).fit(H_lfr3)\n"
     ]
    },
    {
     "data": {
      "text/plain": [
       "0.0"
      ]
     },
     "execution_count": 2,
     "metadata": {},
     "output_type": "execute_result"
    }
   ],
   "source": [
    "#mu=0.5\n",
    "lfr3 = pickle.load(open(\"lfr_3.p\", \"rb\"))\n",
    "\n",
    "X_lfr3_1 = tf.convert_to_tensor(nx.modularity_matrix(lfr3).astype('float32'))\n",
    "ae_lfr3_1 = Autoencoder(1000, 512, k_reg=tf.keras.regularizers.L2())\n",
    "train(ae_lfr3_1, 10000, 1000, X_lfr3_1)\n",
    "X_lfr3_2 = ae_lfr3_1.encoder(X_lfr3_1)\n",
    "ae_lfr3_2 = Autoencoder(512, 256, k_reg=tf.keras.regularizers.L2())\n",
    "train(ae_lfr3_2, 10000, 512, X_lfr3_2)\n",
    "X_lfr3_3 = ae_lfr3_2.encoder(X_lfr3_2)\n",
    "ae_lfr3_3 = Autoencoder(256, 128, k_reg=tf.keras.regularizers.L2())\n",
    "train(ae_lfr3_3, 10000, 256, X_lfr3_3)\n",
    "H_lfr3 = ae_lfr3_3.encoder(X_lfr3_3)\n",
    "\n",
    "lfr3_labels = get_community_labels(lfr3, 'community')\n",
    "kmeans_lfr3 = KMeans(n_clusters=get_num_communities(lfr3, 'community'), random_state=0).fit(H_lfr3)\n",
    "normalized_mutual_info_score(lfr3_labels, kmeans_lfr3.labels_)"
   ]
  },
  {
   "cell_type": "code",
   "execution_count": 4,
   "metadata": {},
   "outputs": [
    {
     "data": {
      "text/plain": [
       "<tf.Tensor: shape=(1000, 128), dtype=float32, numpy=\n",
       "array([[0., 0., 0., ..., 0., 1., 0.],\n",
       "       [0., 0., 0., ..., 0., 1., 0.],\n",
       "       [0., 0., 0., ..., 0., 1., 0.],\n",
       "       ...,\n",
       "       [0., 0., 0., ..., 0., 1., 0.],\n",
       "       [0., 0., 0., ..., 0., 1., 0.],\n",
       "       [0., 0., 0., ..., 0., 1., 0.]], dtype=float32)>"
      ]
     },
     "execution_count": 4,
     "metadata": {},
     "output_type": "execute_result"
    }
   ],
   "source": [
    "H_lfr3"
   ]
  },
  {
   "cell_type": "code",
   "execution_count": null,
   "metadata": {},
   "outputs": [],
   "source": []
  }
 ],
 "metadata": {
  "kernelspec": {
   "display_name": "Python 3",
   "language": "python",
   "name": "python3"
  },
  "language_info": {
   "codemirror_mode": {
    "name": "ipython",
    "version": 3
   },
   "file_extension": ".py",
   "mimetype": "text/x-python",
   "name": "python",
   "nbconvert_exporter": "python",
   "pygments_lexer": "ipython3",
   "version": "3.8.5"
  }
 },
 "nbformat": 4,
 "nbformat_minor": 4
}
