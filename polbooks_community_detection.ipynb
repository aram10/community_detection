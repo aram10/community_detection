{
 "cells": [
  {
   "cell_type": "code",
   "execution_count": 1,
   "metadata": {},
   "outputs": [],
   "source": [
    "import matplotlib.pyplot as plt\n",
    "import numpy as np\n",
    "import pandas as pd\n",
    "import tensorflow as tf\n",
    "import networkx as nx\n",
    "import random\n",
    "import pickle\n",
    "import itertools\n",
    "import math\n",
    "import urllib.request as urllib\n",
    "import io\n",
    "import zipfile\n",
    "\n",
    "from sklearn.metrics import accuracy_score, precision_score, recall_score\n",
    "from sklearn.model_selection import train_test_split\n",
    "from tensorflow import keras\n",
    "from tensorflow.keras import layers\n",
    "from tensorflow.keras import layers, losses\n",
    "from tensorflow.keras.models import Model\n",
    "from tensorflow.linalg import diag\n",
    "from tensorflow.keras import callbacks\n",
    "from sklearn.cluster import KMeans\n",
    "from sklearn.metrics.cluster import normalized_mutual_info_score\n",
    "from networkx.generators.community import LFR_benchmark_graph\n",
    "from itertools import count\n",
    "from scipy.spatial import distance_matrix\n",
    "\n",
    "from helpers import *\n",
    "from Autoencoder import *"
   ]
  },
  {
   "cell_type": "code",
   "execution_count": null,
   "metadata": {},
   "outputs": [],
   "source": [
    "#POLBOOKS\n",
    "polbooks = nx.read_gml(\"graphs/polbooks.gml\")"
   ]
  },
  {
   "cell_type": "code",
   "execution_count": null,
   "metadata": {},
   "outputs": [],
   "source": [
    "A = create_adjacency_matrix(polbooks)\n",
    "\n",
    "#modularity\n",
    "#X_polbooks_1 = tf.convert_to_tensor(nx.modularity_matrix(polbooks).astype('float32'))\n",
    "\n",
    "#similarity\n",
    "X_polbooks_1 = tf.convert_to_tensor(adjacency_to_similarity(A).astype('float32'))"
   ]
  },
  {
   "cell_type": "code",
   "execution_count": null,
   "metadata": {},
   "outputs": [],
   "source": [
    "#Stacked autoencoder model\n",
    "ae_polbooks_1 = Autoencoder(105, 64, k_reg=tf.keras.regularizers.L2(), act_reg=SparseRegularizer())\n",
    "history_polbooks_1 = train(ae_polbooks_1, 5000, 105, X_polbooks_1)\n",
    "\n",
    "X_polbooks_2 = ae_polbooks_1.encoder(X_polbooks_1)\n",
    "ae_polbooks_2 = Autoencoder(64, 32, k_reg=tf.keras.regularizers.L2(), act_reg=SparseRegularizer())\n",
    "history_polbooks_2 = train(ae_polbooks_2, 5000, 105, X_polbooks_2)\n",
    "\n",
    "X_polbooks_3 = ae_polbooks_2.encoder(X_polbooks_2)\n",
    "ae_polbooks_3 = Autoencoder(32, 16, k_reg=tf.keras.regularizers.L2(), act_reg=SparseRegularizer())\n",
    "history_polbooks_3 = train(ae_polbooks_3, 5000, 105, X_polbooks_3)"
   ]
  },
  {
   "cell_type": "code",
   "execution_count": null,
   "metadata": {},
   "outputs": [],
   "source": [
    "H_polbooks = ae_polbooks_3.encoder(X_polbooks_3)\n",
    "labels = polbooks_labels(polbooks)\n",
    "kmeans_polbooks = KMeans(n_clusters=3, n_init=20).fit(H_polbooks)\n",
    "normalized_mutual_info_score(labels, kmeans_polbooks.labels_)"
   ]
  },
  {
   "cell_type": "code",
   "execution_count": null,
   "metadata": {},
   "outputs": [],
   "source": [
    "combined_encoder = tf.keras.Sequential()\n",
    "combined_decoder = tf.keras.Sequential()\n",
    "\n",
    "combined_encoder.add(ae_polbooks_1.encoder.layers[0])\n",
    "combined_encoder.add(ae_polbooks_2.encoder.layers[0])\n",
    "combined_encoder.add(ae_polbooks_3.encoder.layers[0])\n",
    "\n",
    "combined_decoder.add(ae_polbooks_3.decoder.layers[0])\n",
    "combined_decoder.add(ae_polbooks_2.decoder.layers[0])\n",
    "combined_decoder.add(ae_polbooks_1.decoder.layers[0])\n",
    "\n",
    "#fine tuning\n",
    "ae_combined=Autoencoder(105, 16, learning_rate=0.0001)\n",
    "ae_combined.encoder=combined_encoder\n",
    "ae_combined.decoder=combined_decoder\n",
    "\n",
    "ae_combined.build(input_shape=(None, 105))\n",
    "\n",
    "combined_history = train(ae_combined, 500, 2708, X_polbooks_1)"
   ]
  },
  {
   "cell_type": "code",
   "execution_count": null,
   "metadata": {},
   "outputs": [],
   "source": [
    "H_polbooks = ae_combined.encoder(X_polbooks_1)\n",
    "labels = polbooks_labels(polbooks)\n",
    "kmeans_polbooks = KMeans(n_clusters=3, random_state=0).fit(H_polbooks)\n",
    "normalized_mutual_info_score(labels, kmeans_polbooks.labels_)"
   ]
  }
 ],
 "metadata": {
  "kernelspec": {
   "display_name": "Python 3",
   "language": "python",
   "name": "python3"
  },
  "language_info": {
   "codemirror_mode": {
    "name": "ipython",
    "version": 3
   },
   "file_extension": ".py",
   "mimetype": "text/x-python",
   "name": "python",
   "nbconvert_exporter": "python",
   "pygments_lexer": "ipython3",
   "version": "3.8.3"
  }
 },
 "nbformat": 4,
 "nbformat_minor": 4
}
