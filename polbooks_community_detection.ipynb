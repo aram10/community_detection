{
 "cells": [
  {
   "cell_type": "code",
   "execution_count": 1,
   "metadata": {},
   "outputs": [],
   "source": [
    "import matplotlib.pyplot as plt\n",
    "import numpy as np\n",
    "import pandas as pd\n",
    "import tensorflow as tf\n",
    "import networkx as nx\n",
    "import random\n",
    "import pickle\n",
    "import itertools\n",
    "import math\n",
    "import urllib.request as urllib\n",
    "import io\n",
    "import zipfile\n",
    "\n",
    "from sklearn.metrics import accuracy_score, precision_score, recall_score\n",
    "from sklearn.model_selection import train_test_split\n",
    "from tensorflow import keras\n",
    "from tensorflow.keras import layers\n",
    "from tensorflow.keras import layers, losses\n",
    "from tensorflow.keras.models import Model\n",
    "from tensorflow.linalg import diag\n",
    "from func_timeout import func_timeout, FunctionTimedOut\n",
    "from tensorflow.keras import callbacks\n",
    "from sklearn.cluster import KMeans\n",
    "from sklearn.metrics.cluster import normalized_mutual_info_score\n",
    "from networkx.generators.community import LFR_benchmark_graph\n",
    "from itertools import count\n",
    "\n",
    "from helpers import *\n",
    "from Autoencoder import *"
   ]
  },
  {
   "cell_type": "code",
   "execution_count": 2,
   "metadata": {},
   "outputs": [],
   "source": [
    "#POLBOOKS\n",
    "polbooks = nx.read_gml(\"polbooks.gml\")"
   ]
  },
  {
   "cell_type": "code",
   "execution_count": 3,
   "metadata": {},
   "outputs": [],
   "source": [
    "#105-64-32-16\n",
    "X_polbooks_1 = tf.convert_to_tensor(nx.modularity_matrix(polbooks).astype('float32'))\n",
    "\n",
    "ae_polbooks_1 = Autoencoder(105, 64, k_reg=tf.keras.regularizers.L2())\n",
    "train(ae_polbooks_1, 10000, 105, X_polbooks_1)\n",
    "\n",
    "X_polbooks_2 = ae_polbooks_1.encoder(X_polbooks_1)\n",
    "\n",
    "ae_polbooks_2 = Autoencoder(64, 32, k_reg=tf.keras.regularizers.L2())\n",
    "train(ae_polbooks_2, 10000, 64, X_polbooks_2)\n",
    "\n",
    "X_polbooks_3 = ae_polbooks_2.encoder(X_polbooks_2)\n",
    "\n",
    "ae_polbooks_3 = Autoencoder(32, 16, k_reg=tf.keras.regularizers.L2())\n",
    "train(ae_polbooks_3, 10000, 32, X_polbooks_3)"
   ]
  },
  {
   "cell_type": "code",
   "execution_count": 4,
   "metadata": {},
   "outputs": [
    {
     "data": {
      "text/plain": [
       "0.5478236237550547"
      ]
     },
     "execution_count": 4,
     "metadata": {},
     "output_type": "execute_result"
    }
   ],
   "source": [
    "H_polbooks = ae_polbooks_3.encoder(X_polbooks_3)\n",
    "labels = polbooks_labels(polbooks)\n",
    "kmeans_polbooks = KMeans(n_clusters=3, random_state=0).fit(H_polbooks)\n",
    "normalized_mutual_info_score(labels, kmeans_polbooks.labels_)"
   ]
  },
  {
   "cell_type": "code",
   "execution_count": null,
   "metadata": {},
   "outputs": [],
   "source": []
  }
 ],
 "metadata": {
  "kernelspec": {
   "display_name": "Python 3",
   "language": "python",
   "name": "python3"
  },
  "language_info": {
   "codemirror_mode": {
    "name": "ipython",
    "version": 3
   },
   "file_extension": ".py",
   "mimetype": "text/x-python",
   "name": "python",
   "nbconvert_exporter": "python",
   "pygments_lexer": "ipython3",
   "version": "3.8.5"
  }
 },
 "nbformat": 4,
 "nbformat_minor": 4
}
