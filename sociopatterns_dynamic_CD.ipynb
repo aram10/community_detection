{
 "cells": [
  {
   "cell_type": "code",
   "execution_count": null,
   "metadata": {},
   "outputs": [],
   "source": [
    "import matplotlib.pyplot as plt\n",
    "import numpy as np\n",
    "import pandas as pd\n",
    "import tensorflow as tf\n",
    "import networkx as nx\n",
    "import random\n",
    "import pickle\n",
    "import itertools\n",
    "import math\n",
    "import urllib.request as urllib\n",
    "import io\n",
    "import zipfile\n",
    "import community as community_louvain\n",
    "import matplotlib.cm as cm\n",
    "\n",
    "from sklearn.metrics import accuracy_score, precision_score, recall_score\n",
    "from sklearn.model_selection import train_test_split\n",
    "from tensorflow import keras\n",
    "from tensorflow.keras import layers\n",
    "from tensorflow.keras import layers, losses\n",
    "from tensorflow.keras.models import Model\n",
    "from tensorflow.linalg import diag\n",
    "from tensorflow.keras import callbacks\n",
    "from sklearn.cluster import KMeans\n",
    "from sklearn.metrics.cluster import normalized_mutual_info_score\n",
    "from networkx.generators.community import LFR_benchmark_graph\n",
    "from itertools import count\n",
    "from scipy.spatial import distance_matrix\n",
    "from sklearn.decomposition import NMF\n",
    "from rdyn import RDyn\n",
    "\n",
    "from helpers import *\n",
    "from Autoencoder import *"
   ]
  },
  {
   "cell_type": "code",
   "execution_count": null,
   "metadata": {},
   "outputs": [],
   "source": [
    "graphlist = pickle.load(open('graphs/thiers_day_19.p', 'rb'))"
   ]
  },
  {
   "cell_type": "code",
   "execution_count": null,
   "metadata": {},
   "outputs": [],
   "source": [
    "#DAY 19, SNAPSHOT 1\n",
    "t1 = graphlist[0]\n",
    "A = create_adjacency_matrix(t1)\n",
    "t1_A = tf.convert_to_tensor(create_adjacency_matrix(t1).astype('float32'))\n",
    "t1_B = tf.convert_to_tensor(nx.modularity_matrix(t1).astype('float32'))"
   ]
  },
  {
   "cell_type": "code",
   "execution_count": null,
   "metadata": {},
   "outputs": [],
   "source": [
    "create_degree_matrix(t1_A)"
   ]
  },
  {
   "cell_type": "code",
   "execution_count": null,
   "metadata": {},
   "outputs": [],
   "source": [
    "t1_model_1 = Autoencoder(174, 128, k_reg=tf.keras.regularizers.L2(), act_reg=SparseRegularizer())\n",
    "t1_model_1_history = train(t1_model_1, 100, 174, t1_B)\n",
    "\n",
    "H_1 = t1_model_1.encoder(t1_B)\n",
    "t1_model_2 = Autoencoder(128, 64, k_reg=tf.keras.regularizers.L2(), act_reg=SparseRegularizer())\n",
    "t1_model_2_history = train(t1_model_2, 100, 128, H_1)\n",
    "\n",
    "H_2 = t1_model_2.encoder(H_1)\n",
    "t1_model_3 = Autoencoder(64, 32, k_reg=tf.keras.regularizers.L2(), act_reg=SparseRegularizer())\n",
    "t1_model_3_history = train(t1_model_3, 100, 64, H_2)\n",
    "\n",
    "H_3 = t1_model_3.encoder(H_2)"
   ]
  },
  {
   "cell_type": "code",
   "execution_count": null,
   "metadata": {},
   "outputs": [],
   "source": [
    "#try sharing weights\n",
    "t1_model_1_v2 = Autoencoder(174, 128, k_reg=tf.keras.regularizers.L2(), act_reg=SparseRegularizer())\n",
    "temp = t1_model_1_v2.predict(t1_B)\n",
    "t1_model_1_v2.history = {}\n",
    "t1_model_1_v2.set_weights(t1_model_1.get_weights())\n",
    "t1model1v2_history = train(t1_model_1_v2, 1000, 1000, t1_A)"
   ]
  },
  {
   "cell_type": "code",
   "execution_count": null,
   "metadata": {},
   "outputs": [],
   "source": [
    "labels = graph_labels(t1)\n",
    "kmeans = KMeans(n_clusters=5, n_init=20).fit(H_3)\n",
    "\n",
    "normalized_mutual_info_score(labels, kmeans.labels_)"
   ]
  },
  {
   "cell_type": "code",
   "execution_count": null,
   "metadata": {},
   "outputs": [],
   "source": [
    "partition = community_louvain.best_partition(t1)"
   ]
  },
  {
   "cell_type": "code",
   "execution_count": null,
   "metadata": {},
   "outputs": [],
   "source": [
    "# draw the graph\n",
    "pos = nx.spring_layout(t1)\n",
    "# color the nodes according to their partition\n",
    "cmap = cm.get_cmap('viridis', max(partition.values()) + 1)\n",
    "nx.draw_networkx_nodes(t1, pos, partition.keys(), node_size=40,\n",
    "                       cmap=cmap, node_color=list(partition.values()))\n",
    "nx.draw_networkx_edges(t1, pos, alpha=0.5)\n",
    "plt.show()"
   ]
  }
 ],
 "metadata": {
  "kernelspec": {
   "display_name": "Python 3",
   "language": "python",
   "name": "python3"
  },
  "language_info": {
   "codemirror_mode": {
    "name": "ipython",
    "version": 3
   },
   "file_extension": ".py",
   "mimetype": "text/x-python",
   "name": "python",
   "nbconvert_exporter": "python",
   "pygments_lexer": "ipython3",
   "version": "3.8.3"
  }
 },
 "nbformat": 4,
 "nbformat_minor": 4
}
