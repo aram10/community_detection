{
 "cells": [
  {
   "cell_type": "code",
   "execution_count": 1,
   "metadata": {},
   "outputs": [],
   "source": [
    "import matplotlib.pyplot as plt\n",
    "import numpy as np\n",
    "import pandas as pd\n",
    "import tensorflow as tf\n",
    "import networkx as nx\n",
    "import random\n",
    "import pickle\n",
    "import itertools\n",
    "import urllib.request as urllib\n",
    "import io\n",
    "import zipfile\n",
    "import re\n",
    "import time\n",
    "import datetime \n",
    "import dynetx as dn\n",
    "import copy\n",
    "import ast\n",
    "import glob\n",
    "import scipy\n",
    "import community as community_louvain\n",
    "import matplotlib.cm as cm\n",
    "\n",
    "from sklearn.metrics import accuracy_score, precision_score, recall_score\n",
    "from sklearn.model_selection import train_test_split\n",
    "from sklearn.decomposition import TruncatedSVD\n",
    "from tensorflow import keras\n",
    "from sklearn.metrics.pairwise import cosine_similarity\n",
    "from tensorflow.keras import layers\n",
    "from tensorflow.keras import layers, losses\n",
    "from tensorflow.keras.models import Model\n",
    "from tensorflow.linalg import diag\n",
    "from tensorflow.keras import callbacks\n",
    "from sklearn.cluster import KMeans\n",
    "from sklearn.metrics.cluster import normalized_mutual_info_score\n",
    "from networkx.generators.community import LFR_benchmark_graph\n",
    "from itertools import count\n",
    "from rdyn import RDyn\n",
    "from datetime import datetime\n",
    "from sklearn.decomposition import PCA\n",
    "\n",
    "from helpers import *\n",
    "from Autoencoder import *"
   ]
  },
  {
   "cell_type": "code",
   "execution_count": 2,
   "metadata": {},
   "outputs": [],
   "source": [
    "t = 5\n",
    "n = 500\n",
    "l = 256\n",
    "epochs = 1000\n",
    "k = 7"
   ]
  },
  {
   "cell_type": "code",
   "execution_count": 3,
   "metadata": {},
   "outputs": [],
   "source": [
    "#graphs = pickle.load(open(\"synfix.p\", \"rb\"))\n",
    "\n",
    "graphs = []\n",
    "for x in range(t):\n",
    "    graph = pickle.load(open(\"./graphs/DANCer_12comm/t\" + str(x) + \".p\", \"rb\"))\n",
    "    graphs.append(graph)"
   ]
  },
  {
   "cell_type": "code",
   "execution_count": 4,
   "metadata": {},
   "outputs": [],
   "source": [
    "matrices = []\n",
    "for graph in graphs:\n",
    "    matrices.append(tf.convert_to_tensor(adjacency_to_similarity(create_adjacency_matrix(graph)).astype('float32')))"
   ]
  },
  {
   "cell_type": "code",
   "execution_count": 5,
   "metadata": {},
   "outputs": [],
   "source": [
    "#static CD\n",
    "static_aes = []\n",
    "static_latent_spaces = []\n",
    "for x in range(t):\n",
    "    temp = Autoencoder(n, l, k_reg=tf.keras.regularizers.L2(), act_reg=SparseRegularizer())\n",
    "    B = matrices[x]\n",
    "    history_temp = train(temp, epochs, n, B)\n",
    "    H = temp.encoder(B)\n",
    "    static_aes.append((temp, history_temp))\n",
    "    static_latent_spaces.append(H)"
   ]
  },
  {
   "cell_type": "code",
   "execution_count": 6,
   "metadata": {},
   "outputs": [],
   "source": [
    "#dynamic CD\n",
    "dynamic_aes = []\n",
    "dynamic_latent_spaces = []\n",
    "last_H = static_latent_spaces[0]\n",
    "dynamic_latent_spaces.append(last_H)\n",
    "for x in range(1, t):\n",
    "    temp = Autoencoder(n, l, k_reg=tf.keras.regularizers.L2(), act_reg=SparseRegularizer(), subspace_distance=1)\n",
    "    B = matrices[x]\n",
    "    temp.set_past_embedding(last_H)\n",
    "    history_temp = train(temp, epochs, n, B)\n",
    "    H = temp.encoder(B)\n",
    "    dynamic_aes.append((temp, history_temp))\n",
    "    dynamic_latent_spaces.append(H)\n",
    "    last_H = H"
   ]
  },
  {
   "cell_type": "code",
   "execution_count": 7,
   "metadata": {},
   "outputs": [],
   "source": [
    "#create static labelings\n",
    "static_labels = []\n",
    "for x in range(t):\n",
    "    H = static_latent_spaces[x]\n",
    "    kmeans = KMeans(n_clusters=k, n_init=20).fit(H)\n",
    "    static_labels.append(kmeans.labels_)"
   ]
  },
  {
   "cell_type": "code",
   "execution_count": 8,
   "metadata": {},
   "outputs": [],
   "source": [
    "#crerate dynamic labelings\n",
    "dynamic_labels = []\n",
    "for x in range(t):\n",
    "    H = dynamic_latent_spaces[x]\n",
    "    kmeans = KMeans(n_clusters=k, n_init=20).fit(H)\n",
    "    dynamic_labels.append(kmeans.labels_)"
   ]
  },
  {
   "cell_type": "code",
   "execution_count": 9,
   "metadata": {},
   "outputs": [],
   "source": [
    "#if graphs have ground truths, can compute NMIs\n",
    "static_NMIs = []\n",
    "dynamic_NMIs = []\n",
    "\n",
    "x = 0\n",
    "for x in range(t):\n",
    "    static_results = static_labels[x]\n",
    "    dynamic_results = dynamic_labels[x]\n",
    "    ground_truth = graph_labels(graphs[x])\n",
    "    static_NMIs.append(normalized_mutual_info_score(static_results, ground_truth))\n",
    "    dynamic_NMIs.append(normalized_mutual_info_score(dynamic_results, ground_truth))"
   ]
  },
  {
   "cell_type": "code",
   "execution_count": 10,
   "metadata": {},
   "outputs": [
    {
     "data": {
      "text/plain": [
       "[0.5568560422143263,\n",
       " 0.5496958397847449,\n",
       " 0.6327759609145253,\n",
       " 0.7178679648189225,\n",
       " 0.6537622456376858]"
      ]
     },
     "execution_count": 10,
     "metadata": {},
     "output_type": "execute_result"
    }
   ],
   "source": [
    "static_NMIs"
   ]
  },
  {
   "cell_type": "code",
   "execution_count": 11,
   "metadata": {},
   "outputs": [
    {
     "data": {
      "text/plain": [
       "[0.5313704281871948,\n",
       " 0.5749838395283821,\n",
       " 0.6448887874977783,\n",
       " 0.6832730943226357,\n",
       " 0.6487106189590918]"
      ]
     },
     "execution_count": 11,
     "metadata": {},
     "output_type": "execute_result"
    }
   ],
   "source": [
    "dynamic_NMIs"
   ]
  },
  {
   "cell_type": "code",
   "execution_count": null,
   "metadata": {},
   "outputs": [],
   "source": []
  }
 ],
 "metadata": {
  "kernelspec": {
   "display_name": "Python 3",
   "language": "python",
   "name": "python3"
  },
  "language_info": {
   "codemirror_mode": {
    "name": "ipython",
    "version": 3
   },
   "file_extension": ".py",
   "mimetype": "text/x-python",
   "name": "python",
   "nbconvert_exporter": "python",
   "pygments_lexer": "ipython3",
   "version": "3.8.3"
  }
 },
 "nbformat": 4,
 "nbformat_minor": 4
}
